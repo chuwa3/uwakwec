{
  "nbformat": 4,
  "nbformat_minor": 0,
  "metadata": {
    "colab": {
      "name": "Untitled1.ipynb",
      "provenance": [],
      "authorship_tag": "ABX9TyPOoJkPdVAdW+SMn4HE55vI",
      "include_colab_link": true
    },
    "kernelspec": {
      "name": "python3",
      "display_name": "Python 3"
    },
    "language_info": {
      "name": "python"
    }
  },
  "cells": [
    {
      "cell_type": "markdown",
      "metadata": {
        "id": "view-in-github",
        "colab_type": "text"
      },
      "source": [
        "<a href=\"https://colab.research.google.com/github/chuwa3/uwakwec/blob/main/Test1.ipynb\" target=\"_parent\"><img src=\"https://colab.research.google.com/assets/colab-badge.svg\" alt=\"Open In Colab\"/></a>"
      ]
    },
    {
      "cell_type": "code",
      "execution_count": null,
      "metadata": {
        "id": "sciWHJRc7VSi"
      },
      "outputs": [],
      "source": [
        "from keras.models import load_model\n",
        "from keras.preprocessing.image import img_to_array\n",
        "from keras.preprocessing import image\n",
        "import cv2\n",
        "import numpy as np\n",
        "\n",
        "face_classifier= cv2.CascadeClassifier(r'C:\\Users\\LENOVO'\\Documents\\Live Projects\\haarcascade_frontalface_default')\n",
        "model=load_model(r'C:\\Users\\LENOVO'\\Documents\\Live Projects\\Emotion_little_vgg.hs')\n",
        "\n",
        "class_labels=['Angry','Happy','Surprise','Neutral','Sad','Disgust','Fear']\n",
        "\n",
        "cap=cv2.VideoCapture(0)\n",
        "\n",
        "while True:\n",
        "\n",
        "  ret,frame=cap.read()\n",
        "  gray=cv2.cvtColor(frame,cv2.COLOR_BGR2GRAY)\n",
        "  faces=face_classifier.detectMultiScale(gray,1.3,5)\n",
        "\n",
        "  for (x,y,w,h) in faces:\n",
        "    cv2.rectangle(frame,(x,y),(x+w,y+h),(255,0,0),2)\n",
        "    roi_gray=gray[y:y+h,x:x+w]\n",
        "    roi_gray=cv2.resize(roi_gray,(48,48),interpolation=cv2.INTER_AREA)\n",
        "\n",
        "    if np.sum([roi_gray])!=0:\n",
        "      roi=roi_gray.astype('float')/255.0\n",
        "      roi=img_to_array(roi)\n",
        "      roi=np.expand_dims(roi,axis=0)\n",
        "\n",
        "      preds=model.predict(roi)[0]\n",
        "      label=class_labels[preds.argmax()]\n",
        "      label_position=(x,y)\n",
        "      cv2.putText(frame,label,label_position,cv2.FONT_HERSHEY_SIMPLEX,2,(0,255,0),3)\n",
        "\n",
        "      else:\n",
        "        cv2.putText(frame,'NO FACE FOUND',(20,60),cv2.FONT_HERSHEY_SIMPLEX,2,(0,255,0),3)\n",
        "\n",
        "\n",
        "        cv2.imshow('Emotion Detector',frame)\n",
        "        if cv2.waitkey(1) & 0xFF==ord('q'):\n",
        "              break\n",
        "\n",
        "        cap.release()\n",
        "        cv2.destroyALLWindows()\n",
        "\n"
      ]
    }
  ]
}