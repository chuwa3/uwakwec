{
  "nbformat": 4,
  "nbformat_minor": 0,
  "metadata": {
    "colab": {
      "name": "Untitled0.ipynb",
      "provenance": [],
      "authorship_tag": "ABX9TyOvC6ldjPHK2MoNsvXxHb/6",
      "include_colab_link": true
    },
    "kernelspec": {
      "name": "python3",
      "display_name": "Python 3"
    },
    "language_info": {
      "name": "python"
    }
  },
  "cells": [
    {
      "cell_type": "markdown",
      "metadata": {
        "id": "view-in-github",
        "colab_type": "text"
      },
      "source": [
        "<a href=\"https://colab.research.google.com/github/chuwa3/uwakwec/blob/main/artificialp0.ipynb\" target=\"_parent\"><img src=\"https://colab.research.google.com/assets/colab-badge.svg\" alt=\"Open In Colab\"/></a>"
      ]
    },
    {
      "cell_type": "code",
      "source": [
        "import keras\n",
        "from keras.preprocessing.image import ImageDataGenerator\n",
        "from keras.models import sequential\n",
        "from keras.layers import Dense, Dropout, Activation, Flatten, BatchNormalization\n",
        "from keras.layers import Conv2D, MaxPooling2D\n",
        "import os\n",
        "\n",
        "num_classes=7\n",
        "img_rows,img_cols= 48,48\n",
        "batch_size=8\n",
        "\n",
        "train_data_dir=r'C:\\Users\\LENOVO'\\Documents\\Live Projects\\train'\n",
        "validation_data_dir=r'C:\\Users\\LENOVO'\\Documents\\Live Projects\\validation'\n",
        "\n",
        "train_datagen= ImageDataGenerator(rescale=1./255, rotation_range=30, shear_range=0.3, zoom_range=0.3,\n",
        "width_shift_range=0.4, height_shift_range=0.4, horizontal_flip=True,vertical_flip=True)\n",
        "\n",
        "validation_datagen= ImageDataGenerator(rescale=1./255)\n",
        "\n",
        "train_generator= train_datagen.flow_from_directory(train_data_dir, color_mode='grayscale',target_size=(img_rows,img_cols),\n",
        "batch_size=batch_size, class_mode)\n",
        "\n",
        "\n"
      ],
      "metadata": {
        "id": "iWFpHztRxIlJ"
      },
      "execution_count": null,
      "outputs": []
    }
  ]
}